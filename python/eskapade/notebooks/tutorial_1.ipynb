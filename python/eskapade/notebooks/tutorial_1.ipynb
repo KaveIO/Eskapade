{
 "cells": [
  {
   "cell_type": "markdown",
   "metadata": {},
   "source": [
    "# Eskapade: tutorial_1"
   ]
  },
  {
   "cell_type": "code",
   "execution_count": null,
   "metadata": {
    "collapsed": true
   },
   "outputs": [],
   "source": [
    "from eskapade import process_manager, resources, ConfigObject, DataStore\n",
    "# from eskapade import core_ops, analysis, visualization\n",
    "from escore.core import execution, persistence\n",
    "from eskapade.logger import Logger, LogLevel, global_log_publisher, ConsoleHandler, ConsoleErrHandler, LogPublisher\n",
    "\n",
    "global_log_publisher.add_handler(ConsoleHandler())\n",
    "global_log_publisher.add_handler(ConsoleErrHandler())"
   ]
  },
  {
   "cell_type": "markdown",
   "metadata": {
    "collapsed": true
   },
   "source": [
    "## Running an Eskapade macro in Jupyter"
   ]
  },
  {
   "cell_type": "code",
   "execution_count": null,
   "metadata": {
    "collapsed": true
   },
   "outputs": [],
   "source": [
    "settings = process_manager.service(ConfigObject)\n",
    "# Set your macro path here\n",
    "settings['macro'] = resources.tutorial('tutorial_1.py')\n",
    "settings['version'] = 0\n",
    "settings['logLevel'] = LogLevel.DEBUG"
   ]
  },
  {
   "cell_type": "code",
   "execution_count": null,
   "metadata": {
    "scrolled": false
   },
   "outputs": [],
   "source": [
    "# run eskapade\n",
    "execution.eskapade_run(settings)"
   ]
  },
  {
   "cell_type": "code",
   "execution_count": null,
   "metadata": {},
   "outputs": [],
   "source": [
    "# see what's in the datastore\n",
    "ds = process_manager.service(DataStore)\n",
    "ds.Print()"
   ]
  },
  {
   "cell_type": "markdown",
   "metadata": {},
   "source": [
    "## Reading the datastore from a pickle file"
   ]
  },
  {
   "cell_type": "code",
   "execution_count": null,
   "metadata": {},
   "outputs": [],
   "source": [
    "ds = DataStore.import_from_file(persistence.io_path('proc_service_data',\n",
    "                                                    'latest/escore.core.process_services.DataStore.pkl'))\n",
    "ds.Print()"
   ]
  },
  {
   "cell_type": "markdown",
   "metadata": {},
   "source": [
    "## Reading the settings from a pickle file"
   ]
  },
  {
   "cell_type": "code",
   "execution_count": null,
   "metadata": {},
   "outputs": [],
   "source": [
    "settings = ConfigObject.import_from_file(persistence.io_path('proc_service_data',\n",
    "                                                             'latest/escore.core.process_services.ConfigObject.pkl'))\n",
    "settings.Print()"
   ]
  },
  {
   "cell_type": "markdown",
   "metadata": {},
   "source": [
    "## To rerun eskapade, clear the memory state first!"
   ]
  },
  {
   "cell_type": "code",
   "execution_count": null,
   "metadata": {},
   "outputs": [],
   "source": [
    "execution.reset_eskapade()"
   ]
  },
  {
   "cell_type": "markdown",
   "metadata": {},
   "source": [
    "## Running Eskapade without a macro"
   ]
  },
  {
   "cell_type": "code",
   "execution_count": null,
   "metadata": {
    "collapsed": true
   },
   "outputs": [],
   "source": [
    "del settings['macro']"
   ]
  },
  {
   "cell_type": "code",
   "execution_count": null,
   "metadata": {
    "scrolled": false
   },
   "outputs": [],
   "source": [
    "execution.eskapade_run(settings)"
   ]
  },
  {
   "cell_type": "markdown",
   "metadata": {},
   "source": [
    "### the output shows that essentially nothing has happened ..."
   ]
  },
  {
   "cell_type": "code",
   "execution_count": null,
   "metadata": {
    "collapsed": true
   },
   "outputs": [],
   "source": []
  }
 ],
 "metadata": {
  "anaconda-cloud": {},
  "kernelspec": {
   "display_name": "Python 3",
   "language": "python",
   "name": "python3"
  },
  "language_info": {
   "codemirror_mode": {
    "name": "ipython",
    "version": 3
   },
   "file_extension": ".py",
   "mimetype": "text/x-python",
   "name": "python",
   "nbconvert_exporter": "python",
   "pygments_lexer": "ipython3",
   "version": "3.6.1"
  }
 },
 "nbformat": 4,
 "nbformat_minor": 1
}
